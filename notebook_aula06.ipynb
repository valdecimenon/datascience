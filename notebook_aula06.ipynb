{
 "cells": [
  {
   "cell_type": "code",
   "execution_count": null,
   "id": "784c29d8",
   "metadata": {},
   "outputs": [],
   "source": [
    "with open('cores.txt', 'r') as arq:\n",
    "    print('Conteúdo do arquivo:\\n' + arq.read())      \n"
   ]
  },
  {
   "cell_type": "code",
   "execution_count": null,
   "id": "c301fba6",
   "metadata": {},
   "outputs": [],
   "source": [
    "with open('cores.txt', 'r') as arq:\n",
    "    for linha in arq:\n",
    "        print(linha, end='')\n"
   ]
  },
  {
   "cell_type": "code",
   "execution_count": null,
   "id": "c93037df",
   "metadata": {},
   "outputs": [],
   "source": [
    "with open('cores.txt', 'r') as arq:\n",
    "    for i, linha in enumerate(arq):\n",
    "        print(str(i) + '\\t' + linha, end='')\n"
   ]
  },
  {
   "cell_type": "code",
   "execution_count": null,
   "id": "9ec6172a",
   "metadata": {},
   "outputs": [],
   "source": []
  },
  {
   "cell_type": "code",
   "execution_count": null,
   "id": "c6eb6cc5",
   "metadata": {
    "scrolled": true
   },
   "outputs": [],
   "source": [
    "import pandas as pd\n",
    "df = pd.read_csv('titanic.csv')\n",
    "display(df)\n"
   ]
  },
  {
   "cell_type": "code",
   "execution_count": null,
   "id": "b21c69af",
   "metadata": {},
   "outputs": [],
   "source": [
    "#Somente coluna 'age'\n",
    "print(df['age'])\n",
    "#ou\n",
    "print(df.age)\n"
   ]
  },
  {
   "cell_type": "code",
   "execution_count": null,
   "id": "13ab1412",
   "metadata": {},
   "outputs": [],
   "source": [
    "display(df.head())"
   ]
  },
  {
   "cell_type": "code",
   "execution_count": null,
   "id": "af6bb15e",
   "metadata": {},
   "outputs": [],
   "source": [
    "display(df.tail())"
   ]
  },
  {
   "cell_type": "code",
   "execution_count": null,
   "id": "50ffcfbd",
   "metadata": {},
   "outputs": [],
   "source": [
    "for i in range(10):\n",
    "    print(f\"{i} \\t {df['survived'][i]:15}  {df['age'][i]}\")\n"
   ]
  },
  {
   "cell_type": "code",
   "execution_count": null,
   "id": "c7aab067",
   "metadata": {},
   "outputs": [],
   "source": [
    "df.to_excel(\"titanic.xlsx\", index=False)"
   ]
  },
  {
   "cell_type": "code",
   "execution_count": null,
   "id": "46114212",
   "metadata": {},
   "outputs": [],
   "source": [
    "import pandas as pd\n",
    "xls = pd.ExcelFile('titanic.xlsx')\n",
    "df = xls.parse('Sheet1')\n",
    "df"
   ]
  },
  {
   "cell_type": "code",
   "execution_count": null,
   "id": "1b2546e8",
   "metadata": {},
   "outputs": [],
   "source": [
    "import pandas as pd\n",
    "xls = pd.ExcelFile('valores.xls')\n",
    "df = xls.parse('Sheet1')  #converte em data frame\n",
    "df"
   ]
  },
  {
   "cell_type": "code",
   "execution_count": null,
   "id": "7d9f0046",
   "metadata": {},
   "outputs": [],
   "source": [
    "print(len(df))\n",
    "print(len(df.index))\n",
    "print(df.shape[0])\n"
   ]
  },
  {
   "cell_type": "code",
   "execution_count": null,
   "id": "8df7fe19",
   "metadata": {},
   "outputs": [],
   "source": [
    "#(linhas colunas)\n",
    "print(df.shape)\n",
    "#toda a tabela\n",
    "display(df[0:10])\n",
    "display(df[-10:])\n"
   ]
  },
  {
   "cell_type": "code",
   "execution_count": null,
   "id": "37b4126c",
   "metadata": {},
   "outputs": [],
   "source": [
    "print (df['Seno'][0:10])\n",
    "#ou\n",
    "print (df.Seno[0:10])\n",
    "\n"
   ]
  },
  {
   "cell_type": "code",
   "execution_count": null,
   "id": "5d641596",
   "metadata": {},
   "outputs": [],
   "source": [
    "df.to_csv('valores.csv', index=False,  sep=';')"
   ]
  },
  {
   "cell_type": "code",
   "execution_count": 21,
   "id": "dade658a",
   "metadata": {},
   "outputs": [
    {
     "data": {
      "text/html": [
       "<div>\n",
       "<style scoped>\n",
       "    .dataframe tbody tr th:only-of-type {\n",
       "        vertical-align: middle;\n",
       "    }\n",
       "\n",
       "    .dataframe tbody tr th {\n",
       "        vertical-align: top;\n",
       "    }\n",
       "\n",
       "    .dataframe thead th {\n",
       "        text-align: right;\n",
       "    }\n",
       "</style>\n",
       "<table border=\"1\" class=\"dataframe\">\n",
       "  <thead>\n",
       "    <tr style=\"text-align: right;\">\n",
       "      <th></th>\n",
       "      <th>Número</th>\n",
       "      <th>Texto</th>\n",
       "      <th>Lógico</th>\n",
       "    </tr>\n",
       "  </thead>\n",
       "  <tbody>\n",
       "    <tr>\n",
       "      <th>0</th>\n",
       "      <td>1</td>\n",
       "      <td>Primeiro</td>\n",
       "      <td>True</td>\n",
       "    </tr>\n",
       "    <tr>\n",
       "      <th>1</th>\n",
       "      <td>2</td>\n",
       "      <td>Segundo</td>\n",
       "      <td>False</td>\n",
       "    </tr>\n",
       "    <tr>\n",
       "      <th>2</th>\n",
       "      <td>3</td>\n",
       "      <td>Terceiro</td>\n",
       "      <td>True</td>\n",
       "    </tr>\n",
       "    <tr>\n",
       "      <th>3</th>\n",
       "      <td>4</td>\n",
       "      <td>Quarto</td>\n",
       "      <td>False</td>\n",
       "    </tr>\n",
       "  </tbody>\n",
       "</table>\n",
       "</div>"
      ],
      "text/plain": [
       "  Número     Texto Lógico\n",
       "0      1  Primeiro   True\n",
       "1      2   Segundo  False\n",
       "2      3  Terceiro   True\n",
       "3      4    Quarto  False"
      ]
     },
     "metadata": {},
     "output_type": "display_data"
    }
   ],
   "source": [
    "import pandas as pd\n",
    "from lxml import objectify\n",
    "\n",
    "xml = objectify.parse(open('XMLData.xml'))\n",
    "#obtém o elemento raiz da árvore\n",
    "root = xml.getroot()\n",
    "#total de filhos do elemento raiz\n",
    "total = len(root.getchildren())\n",
    "#cria um dataframe vazio e define o nome das colunas\n",
    "df = pd.DataFrame(columns=['Número', 'Texto', 'Lógico'])\n",
    "\n",
    "for i in range(0, total):\n",
    "    dados = root.getchildren()[i].getchildren()                           #para i=0 => [1, 'Primeiro', 'True']\n",
    "    #converte os itens da lista em texto\n",
    "    row = [dados [0].text, dados [1].text, dados [2].text]         #['1', 'Primeiro', 'True']\n",
    "    df.loc[i] = row                                                                            \n",
    "\n",
    "display(df)"
   ]
  },
  {
   "cell_type": "code",
   "execution_count": 22,
   "id": "dc1787cd",
   "metadata": {},
   "outputs": [],
   "source": [
    "df.to_csv('XMLData.csv', index=False, sep=';')"
   ]
  },
  {
   "cell_type": "code",
   "execution_count": 23,
   "id": "39df45fa",
   "metadata": {},
   "outputs": [],
   "source": [
    "df.to_excel(\"'XMLData.xlsx\", index=False)"
   ]
  },
  {
   "cell_type": "code",
   "execution_count": null,
   "id": "397fd3c1",
   "metadata": {},
   "outputs": [],
   "source": [
    "# %load https://www.softgraf.com/cursodatascience/XMLData.xml\n",
    "<MyDataset>\n",
    "    <Record>\n",
    "        <Number>1</Number>\n",
    "        <String>Primeiro</String>\n",
    "        <Boolean>True</Boolean>\n",
    "    </Record>\n",
    "    <Record>\n",
    "        <Number>2</Number>\n",
    "        <String>Segundo</String>\n",
    "        <Boolean>False</Boolean>\n",
    "    </Record>\n",
    "    <Record>\n",
    "        <Number>3</Number>\n",
    "        <String>Terceiro</String>\n",
    "        <Boolean>True</Boolean>\n",
    "    </Record>\n",
    "    <Record>\n",
    "        <Number>4</Number>\n",
    "        <String>Quarto</String>\n",
    "        <Boolean>False</Boolean>\n",
    "    </Record>\n",
    "</MyDataset>"
   ]
  },
  {
   "cell_type": "code",
   "execution_count": 42,
   "id": "a81ee0b2",
   "metadata": {},
   "outputs": [
    {
     "data": {
      "image/png": "[encoded data removed]",
      "text/plain": [
       "<Figure size 432x288 with 1 Axes>"
      ]
     },
     "metadata": {
      "needs_background": "light"
     },
     "output_type": "display_data"
    },
    {
     "data": {
      "text/plain": [
       "<function matplotlib.pyplot.show(close=None, block=None)>"
      ]
     },
     "execution_count": 42,
     "metadata": {},
     "output_type": "execute_result"
    }
   ],
   "source": [
    "# %load https://matplotlib.org/_downloads/pyplot_text.py\n",
    "\"\"\"\n",
    "===========\n",
    "Pyplot Text\n",
    "===========\n",
    "\n",
    "\"\"\"\n",
    "import numpy as np\n",
    "import matplotlib.pyplot as plt\n",
    "\n",
    "# Fixing random state for reproducibility\n",
    "np.random.seed(19680801)\n",
    "\n",
    "mu, sigma = 100, 15\n",
    "x = mu + sigma * np.random.randn(10000)\n",
    "\n",
    "# the histogram of the data\n",
    "n, bins, patches = plt.hist(x, 50, density=True, facecolor='g', alpha=0.75)\n",
    "\n",
    "\n",
    "plt.xlabel('Smarts')\n",
    "plt.ylabel('Probability')\n",
    "plt.title('Histogram of IQ')\n",
    "plt.text(60, .025, r'$\\mu=100,\\ \\sigma=15$')\n",
    "plt.axis([40, 160, 0, 0.03])\n",
    "plt.grid(True)\n",
    "plt.show()\n",
    "\n",
    "#############################################################################\n",
    "#\n",
    "# ------------\n",
    "#\n",
    "# References\n",
    "# \"\"\"\"\"\"\"\"\"\"\n",
    "#\n",
    "# The use of the following functions, methods, classes and modules is shown\n",
    "# in this example:\n",
    "\n",
    "import matplotlib\n",
    "matplotlib.pyplot.hist\n",
    "matplotlib.pyplot.xlabel\n",
    "matplotlib.pyplot.ylabel\n",
    "matplotlib.pyplot.text\n",
    "matplotlib.pyplot.grid\n",
    "matplotlib.pyplot.show\n"
   ]
  }
 ],
 "metadata": {
  "kernelspec": {
   "display_name": "Python 3 (ipykernel)",
   "language": "python",
   "name": "python3"
  },
  "language_info": {
   "codemirror_mode": {
    "name": "ipython",
    "version": 3
   },
   "file_extension": ".py",
   "mimetype": "text/x-python",
   "name": "python",
   "nbconvert_exporter": "python",
   "pygments_lexer": "ipython3",
   "version": "3.9.12"
  }
 },
 "nbformat": 4,
 "nbformat_minor": 5
}
